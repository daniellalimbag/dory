{
 "cells": [
  {
   "cell_type": "markdown",
   "id": "1ea27826",
   "metadata": {},
   "source": [
    "Test for stroke count and stroke rate"
   ]
  },
  {
   "cell_type": "code",
   "execution_count": null,
   "id": "c35b06e0",
   "metadata": {},
   "outputs": [
    {
     "data": {
      "application/vnd.jupyter.widget-view+json": {
       "model_id": "502654144e924d10b3d223463a8fe9b7",
       "version_major": 2,
       "version_minor": 0
      },
      "text/plain": [
       "Text(value='', description='DB file path:', layout=Layout(width='80%'), placeholder='C:/path/to/your/database.…"
      ]
     },
     "metadata": {},
     "output_type": "display_data"
    },
    {
     "data": {
      "application/vnd.jupyter.widget-view+json": {
       "model_id": "693716ed96ec484c829b668fe52a7046",
       "version_major": 2,
       "version_minor": 0
      },
      "text/plain": [
       "Button(button_style='primary', description='Load DB', style=ButtonStyle())"
      ]
     },
     "metadata": {},
     "output_type": "display_data"
    },
    {
     "data": {
      "application/vnd.jupyter.widget-view+json": {
       "model_id": "db56060cc5ca4d0787cb22666abd205a",
       "version_major": 2,
       "version_minor": 0
      },
      "text/plain": [
       "Output()"
      ]
     },
     "metadata": {},
     "output_type": "display_data"
    }
   ],
   "source": [
    "import sqlite3\n",
    "import pandas as pd\n",
    "import matplotlib.pyplot as plt\n",
    "from scipy.signal import find_peaks, butter, filtfilt\n",
    "import ipywidgets as widgets\n",
    "from IPython.display import display, clear_output\n",
    "from pathlib import Path\n",
    "\n",
    "if 'df' not in globals():\n",
    "    df = pd.DataFrame()\n",
    "\n",
    "# Text input for .db path for now\n",
    "file_input = widgets.Text(\n",
    "    value=\"\",\n",
    "    placeholder=\"C:/path/to/your/database.db\",\n",
    "    description='DB file path:',\n",
    "    style={'description_width': 'initial'},\n",
    "    layout=widgets.Layout(width='80%')\n",
    ")\n",
    "load_button = widgets.Button(description=\"Load DB\", button_style='primary')\n",
    "load_output = widgets.Output()\n",
    "\n",
    "def load_db(_):\n",
    "    with load_output:\n",
    "        clear_output()\n",
    "        db_path = Path(file_input.value)\n",
    "        if not db_path.exists():\n",
    "            print(f\"Path not found: {db_path}\")\n",
    "            return\n",
    "        try:\n",
    "            conn = sqlite3.connect(str(db_path))\n",
    "            print(\"Available tables:\")\n",
    "            tables = pd.read_sql(\"SELECT name FROM sqlite_master WHERE type='table';\", conn)\n",
    "            display(tables)\n",
    "\n",
    "            table_name = 'sensor_data'\n",
    "            if table_name in tables['name'].values:\n",
    "                global df\n",
    "                df = pd.read_sql(f\"SELECT * FROM {table_name};\", conn)\n",
    "\n",
    "                # Convert UNIX ms timestamp to datetime\n",
    "                if \"timestamp\" in df.columns:\n",
    "                    df['datetime'] = (\n",
    "                        pd.to_datetime(df['timestamp'], unit='ms', utc=True)\n",
    "                          .dt.tz_convert('Asia/Manila')\n",
    "                    )\n",
    "\n",
    "                print(f\"\\nPreview of '{table_name}':\")\n",
    "                display(df.head(5))\n",
    "\n",
    "                print(\"Columns:\")\n",
    "                print(df.columns.tolist())\n",
    "\n",
    "                if 'datetime' in df.columns:\n",
    "                    print(\"\\nTime range in dataset (Asia/Manila):\")\n",
    "                    print(df['datetime'].min(), \"to\", df['datetime'].max())\n",
    "            else:\n",
    "                print(f\"⚠️ Table '{table_name}' not found in database.\")\n",
    "        except Exception as e:\n",
    "            print(f\"Failed to open DB: {e}\")\n",
    "\n",
    "load_button.on_click(load_db)\n",
    "\n",
    "display(file_input, load_button, load_output)"
   ]
  },
  {
   "cell_type": "code",
   "execution_count": 2,
   "id": "ec58bd70",
   "metadata": {},
   "outputs": [],
   "source": [
    "def butter_bandpass_filter(data, lowcut=0.25, highcut=0.5, fs=50, order=2):\n",
    "    nyq = 0.5 * fs\n",
    "    low = lowcut / nyq\n",
    "    high = highcut / nyq\n",
    "    b, a = butter(order, [low, high], btype='band')\n",
    "    return filtfilt(b, a, data)"
   ]
  },
  {
   "cell_type": "code",
   "execution_count": 3,
   "id": "9dc852dc",
   "metadata": {},
   "outputs": [],
   "source": [
    "def estimate_sampling_rate(df):\n",
    "    diffs = df['datetime'].diff().dt.total_seconds().dropna()\n",
    "    return 1.0 / diffs.median()"
   ]
  },
  {
   "cell_type": "code",
   "execution_count": 4,
   "id": "8e645fbe",
   "metadata": {},
   "outputs": [],
   "source": [
    "def identify_stroke_cycles(segment, min_sep=0.5, max_sep=4.0, height=0.98):\n",
    "    \"\"\"\n",
    "    Identify stroke cycles using ay + az, bandpass filtering, and constraints.\n",
    "    min_sep, max_sep in seconds\n",
    "    height: amplitude threshold in m/s^2\n",
    "    \"\"\"\n",
    "    if not all(col in segment.columns for col in ['accel_y', 'accel_z']):\n",
    "        print(\"⚠️ accel_y and accel_z not found.\")\n",
    "        return 0, []\n",
    "\n",
    "    # Estimate sampling frequency\n",
    "    fs = estimate_sampling_rate(segment)\n",
    "\n",
    "    # Filter ay and az\n",
    "    ay_f = butter_bandpass_filter(segment['accel_y'].values, fs=fs)\n",
    "    az_f = butter_bandpass_filter(segment['accel_z'].values, fs=fs)\n",
    "\n",
    "    # Combine signals\n",
    "    signal = ay_f + az_f\n",
    "\n",
    "    # Peak detection\n",
    "    min_distance = int(fs * min_sep)\n",
    "    peaks, _ = find_peaks(signal, height=height, distance=min_distance)\n",
    "\n",
    "    # Temporal filtering\n",
    "    valid_peaks = [peaks[0]] if len(peaks) > 0 else []\n",
    "    for i in range(1, len(peaks)):\n",
    "        dt = (peaks[i] - peaks[i-1]) / fs\n",
    "        if dt <= max_sep:\n",
    "            valid_peaks.append(peaks[i])\n",
    "\n",
    "    # Discard first second after push-off\n",
    "    t0 = segment['datetime'].iloc[0]\n",
    "    valid_peaks = [p for p in valid_peaks\n",
    "                   if (segment['datetime'].iloc[p] - t0).total_seconds() > 1]\n",
    "\n",
    "    return len(valid_peaks), valid_peaks, signal"
   ]
  },
  {
   "cell_type": "code",
   "execution_count": 5,
   "id": "3ba23b70",
   "metadata": {},
   "outputs": [
    {
     "data": {
      "application/vnd.jupyter.widget-view+json": {
       "model_id": "ab127aa56e214ba29a862252bef1ec52",
       "version_major": 2,
       "version_minor": 0
      },
      "text/plain": [
       "Text(value='07:00:00', description='Start Time (HH:MM:SS):', style=TextStyle(description_width='initial'))"
      ]
     },
     "metadata": {},
     "output_type": "display_data"
    },
    {
     "data": {
      "application/vnd.jupyter.widget-view+json": {
       "model_id": "6887fd25861a4c8c952b3026d021a292",
       "version_major": 2,
       "version_minor": 0
      },
      "text/plain": [
       "Text(value='07:05:00', description='End Time (HH:MM:SS):', style=TextStyle(description_width='initial'))"
      ]
     },
     "metadata": {},
     "output_type": "display_data"
    },
    {
     "data": {
      "application/vnd.jupyter.widget-view+json": {
       "model_id": "16203b47430b4e65a67163587ff2eca8",
       "version_major": 2,
       "version_minor": 0
      },
      "text/plain": [
       "Button(button_style='success', description='Calculate Stroke Count', style=ButtonStyle())"
      ]
     },
     "metadata": {},
     "output_type": "display_data"
    },
    {
     "data": {
      "application/vnd.jupyter.widget-view+json": {
       "model_id": "2005298f229b48de99db53870b077ccd",
       "version_major": 2,
       "version_minor": 0
      },
      "text/plain": [
       "Output()"
      ]
     },
     "metadata": {},
     "output_type": "display_data"
    }
   ],
   "source": [
    "# Inputs\n",
    "start_time_input = widgets.Text(\n",
    "    value=\"07:00:00\",\n",
    "    description='Start Time (HH:MM:SS):',\n",
    "    style={'description_width': 'initial'}\n",
    ")\n",
    "\n",
    "end_time_input = widgets.Text(\n",
    "    value=\"07:05:00\",\n",
    "    description='End Time (HH:MM:SS):',\n",
    "    style={'description_width': 'initial'}\n",
    ")\n",
    "\n",
    "output = widgets.Output()\n",
    "\n",
    "def calculate_stroke_count(change):\n",
    "    with output:\n",
    "        clear_output()\n",
    "\n",
    "        try:\n",
    "            base_date = df['datetime'].iloc[0].date()\n",
    "            start_time = pd.to_datetime(f\"{base_date} {start_time_input.value}\")\n",
    "            end_time = pd.to_datetime(f\"{base_date} {end_time_input.value}\")\n",
    "            if df['datetime'].dt.tz is not None:\n",
    "                tz = df['datetime'].dt.tz\n",
    "                start_time = start_time.tz_localize(tz)\n",
    "                end_time = end_time.tz_localize(tz)\n",
    "        except Exception as e:\n",
    "            print(f\"Invalid time format. Use HH:MM:SS. Error: {e}\")\n",
    "            return\n",
    "\n",
    "        mask = (df['datetime'] >= start_time) & (df['datetime'] <= end_time)\n",
    "        segment = df[mask]\n",
    "\n",
    "        if segment.empty:\n",
    "            print(\"No data in selected time range.\")\n",
    "            return\n",
    "\n",
    "        # stroke cycle identification\n",
    "        stroke_count, peaks, signal = identify_stroke_cycles(segment)\n",
    "\n",
    "        print(f\"Detected Stroke Count: {stroke_count}\")\n",
    "\n",
    "        # results\n",
    "        plt.figure(figsize=(12,4))\n",
    "        plt.plot(segment['datetime'], signal, label=\"Filtered ay+az\")\n",
    "        if len(peaks) > 0:\n",
    "            plt.plot(segment['datetime'].iloc[peaks], signal[peaks], \"rx\", label=\"Strokes\")\n",
    "        plt.xlabel(\"Time\")\n",
    "        plt.ylabel(\"Filtered Acceleration (m/s^2)\")\n",
    "        plt.legend()\n",
    "        plt.show()\n",
    "\n",
    "calc_button = widgets.Button(\n",
    "    description=\"Calculate Stroke Count\",\n",
    "    button_style='success'\n",
    ")\n",
    "calc_button.on_click(calculate_stroke_count)\n",
    "\n",
    "display(start_time_input, end_time_input, calc_button, output)"
   ]
  }
 ],
 "metadata": {
  "kernelspec": {
   "display_name": "Python 3",
   "language": "python",
   "name": "python3"
  },
  "language_info": {
   "codemirror_mode": {
    "name": "ipython",
    "version": 3
   },
   "file_extension": ".py",
   "mimetype": "text/x-python",
   "name": "python",
   "nbconvert_exporter": "python",
   "pygments_lexer": "ipython3",
   "version": "3.9.13"
  }
 },
 "nbformat": 4,
 "nbformat_minor": 5
}
